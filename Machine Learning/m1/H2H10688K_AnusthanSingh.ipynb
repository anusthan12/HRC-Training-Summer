{
 "cells": [
  {
   "cell_type": "markdown",
   "metadata": {},
   "source": [
    "IMPORTING NECESSARY LIBRARIES"
   ]
  },
  {
   "cell_type": "code",
   "execution_count": 2,
   "metadata": {},
   "outputs": [],
   "source": [
    "import pandas as pd\n",
    "import numpy as np"
   ]
  },
  {
   "cell_type": "markdown",
   "metadata": {},
   "source": [
    "IMPORITNG THE DATA FILE IN THE ENVIRONMENT\n"
   ]
  },
  {
   "cell_type": "code",
   "execution_count": 5,
   "metadata": {},
   "outputs": [
    {
     "data": {
      "text/html": [
       "<div>\n",
       "<style scoped>\n",
       "    .dataframe tbody tr th:only-of-type {\n",
       "        vertical-align: middle;\n",
       "    }\n",
       "\n",
       "    .dataframe tbody tr th {\n",
       "        vertical-align: top;\n",
       "    }\n",
       "\n",
       "    .dataframe thead th {\n",
       "        text-align: right;\n",
       "    }\n",
       "</style>\n",
       "<table border=\"1\" class=\"dataframe\">\n",
       "  <thead>\n",
       "    <tr style=\"text-align: right;\">\n",
       "      <th></th>\n",
       "      <th>CUSTOMER_ORDER_ID</th>\n",
       "      <th>SALES_ORG</th>\n",
       "      <th>COMPANY_CODE</th>\n",
       "      <th>ORDER_CREATION_DATE</th>\n",
       "      <th>ORDER_CREATION_TIME</th>\n",
       "      <th>SOLD_TO_PARTY</th>\n",
       "      <th>REQUESTED_DELIVERY_DATE</th>\n",
       "      <th>CREDIT_STATUS</th>\n",
       "      <th>CUSTOMER_NUMBER</th>\n",
       "    </tr>\n",
       "  </thead>\n",
       "  <tbody>\n",
       "    <tr>\n",
       "      <th>count</th>\n",
       "      <td>1.101925e+06</td>\n",
       "      <td>1.101925e+06</td>\n",
       "      <td>1.101925e+06</td>\n",
       "      <td>1.101925e+06</td>\n",
       "      <td>1.101925e+06</td>\n",
       "      <td>1.101925e+06</td>\n",
       "      <td>1.101925e+06</td>\n",
       "      <td>219478.000000</td>\n",
       "      <td>1.101925e+06</td>\n",
       "    </tr>\n",
       "    <tr>\n",
       "      <th>mean</th>\n",
       "      <td>8.763187e+08</td>\n",
       "      <td>3.304891e+03</td>\n",
       "      <td>3.431364e+03</td>\n",
       "      <td>2.022032e+07</td>\n",
       "      <td>1.340316e+05</td>\n",
       "      <td>8.763265e+08</td>\n",
       "      <td>2.022035e+07</td>\n",
       "      <td>74.464771</td>\n",
       "      <td>1.074092e+09</td>\n",
       "    </tr>\n",
       "    <tr>\n",
       "      <th>std</th>\n",
       "      <td>7.088594e+07</td>\n",
       "      <td>6.958920e+02</td>\n",
       "      <td>5.483805e+02</td>\n",
       "      <td>1.426756e+02</td>\n",
       "      <td>6.503618e+04</td>\n",
       "      <td>7.090306e+07</td>\n",
       "      <td>1.751912e+03</td>\n",
       "      <td>14.444210</td>\n",
       "      <td>4.042693e+08</td>\n",
       "    </tr>\n",
       "    <tr>\n",
       "      <th>min</th>\n",
       "      <td>7.534520e+08</td>\n",
       "      <td>2.100000e+03</td>\n",
       "      <td>5.900000e+01</td>\n",
       "      <td>2.022010e+07</td>\n",
       "      <td>0.000000e+00</td>\n",
       "      <td>7.534518e+08</td>\n",
       "      <td>2.019081e+07</td>\n",
       "      <td>52.000000</td>\n",
       "      <td>1.210001e+07</td>\n",
       "    </tr>\n",
       "    <tr>\n",
       "      <th>25%</th>\n",
       "      <td>8.149522e+08</td>\n",
       "      <td>2.702000e+03</td>\n",
       "      <td>3.260000e+03</td>\n",
       "      <td>2.022021e+07</td>\n",
       "      <td>8.170200e+04</td>\n",
       "      <td>8.148366e+08</td>\n",
       "      <td>2.022022e+07</td>\n",
       "      <td>64.000000</td>\n",
       "      <td>1.230006e+09</td>\n",
       "    </tr>\n",
       "    <tr>\n",
       "      <th>50%</th>\n",
       "      <td>8.763963e+08</td>\n",
       "      <td>3.305000e+03</td>\n",
       "      <td>3.660000e+03</td>\n",
       "      <td>2.022032e+07</td>\n",
       "      <td>1.509540e+05</td>\n",
       "      <td>8.763542e+08</td>\n",
       "      <td>2.022033e+07</td>\n",
       "      <td>64.000000</td>\n",
       "      <td>1.230014e+09</td>\n",
       "    </tr>\n",
       "    <tr>\n",
       "      <th>75%</th>\n",
       "      <td>9.376832e+08</td>\n",
       "      <td>3.908000e+03</td>\n",
       "      <td>3.670000e+03</td>\n",
       "      <td>2.022042e+07</td>\n",
       "      <td>1.853580e+05</td>\n",
       "      <td>9.377293e+08</td>\n",
       "      <td>2.022050e+07</td>\n",
       "      <td>93.000000</td>\n",
       "      <td>1.230014e+09</td>\n",
       "    </tr>\n",
       "    <tr>\n",
       "      <th>max</th>\n",
       "      <td>9.990063e+08</td>\n",
       "      <td>4.510000e+03</td>\n",
       "      <td>4.260000e+03</td>\n",
       "      <td>2.022060e+07</td>\n",
       "      <td>2.359590e+05</td>\n",
       "      <td>9.990075e+08</td>\n",
       "      <td>2.202022e+07</td>\n",
       "      <td>93.000000</td>\n",
       "      <td>1.230025e+09</td>\n",
       "    </tr>\n",
       "  </tbody>\n",
       "</table>\n",
       "</div>"
      ],
      "text/plain": [
       "       CUSTOMER_ORDER_ID     SALES_ORG  COMPANY_CODE  ORDER_CREATION_DATE  \\\n",
       "count       1.101925e+06  1.101925e+06  1.101925e+06         1.101925e+06   \n",
       "mean        8.763187e+08  3.304891e+03  3.431364e+03         2.022032e+07   \n",
       "std         7.088594e+07  6.958920e+02  5.483805e+02         1.426756e+02   \n",
       "min         7.534520e+08  2.100000e+03  5.900000e+01         2.022010e+07   \n",
       "25%         8.149522e+08  2.702000e+03  3.260000e+03         2.022021e+07   \n",
       "50%         8.763963e+08  3.305000e+03  3.660000e+03         2.022032e+07   \n",
       "75%         9.376832e+08  3.908000e+03  3.670000e+03         2.022042e+07   \n",
       "max         9.990063e+08  4.510000e+03  4.260000e+03         2.022060e+07   \n",
       "\n",
       "       ORDER_CREATION_TIME  SOLD_TO_PARTY  REQUESTED_DELIVERY_DATE  \\\n",
       "count         1.101925e+06   1.101925e+06             1.101925e+06   \n",
       "mean          1.340316e+05   8.763265e+08             2.022035e+07   \n",
       "std           6.503618e+04   7.090306e+07             1.751912e+03   \n",
       "min           0.000000e+00   7.534518e+08             2.019081e+07   \n",
       "25%           8.170200e+04   8.148366e+08             2.022022e+07   \n",
       "50%           1.509540e+05   8.763542e+08             2.022033e+07   \n",
       "75%           1.853580e+05   9.377293e+08             2.022050e+07   \n",
       "max           2.359590e+05   9.990075e+08             2.202022e+07   \n",
       "\n",
       "       CREDIT_STATUS  CUSTOMER_NUMBER  \n",
       "count  219478.000000     1.101925e+06  \n",
       "mean       74.464771     1.074092e+09  \n",
       "std        14.444210     4.042693e+08  \n",
       "min        52.000000     1.210001e+07  \n",
       "25%        64.000000     1.230006e+09  \n",
       "50%        64.000000     1.230014e+09  \n",
       "75%        93.000000     1.230014e+09  \n",
       "max        93.000000     1.230025e+09  "
      ]
     },
     "execution_count": 5,
     "metadata": {},
     "output_type": "execute_result"
    }
   ],
   "source": [
    "data = pd.read_csv(\"Final.csv\")\n",
    "data.describe()\n"
   ]
  },
  {
   "cell_type": "code",
   "execution_count": 75,
   "metadata": {},
   "outputs": [
    {
     "name": "stdout",
     "output_type": "stream",
     "text": [
      "(1101925, 16)\n"
     ]
    }
   ],
   "source": [
    "print(data.shape)"
   ]
  },
  {
   "cell_type": "code",
   "execution_count": 76,
   "metadata": {},
   "outputs": [
    {
     "name": "stdout",
     "output_type": "stream",
     "text": [
      "<class 'pandas.core.frame.DataFrame'>\n",
      "RangeIndex: 1101925 entries, 0 to 1101924\n",
      "Data columns (total 16 columns):\n",
      " #   Column                   Non-Null Count    Dtype  \n",
      "---  ------                   --------------    -----  \n",
      " 0   CUSTOMER_ORDER_ID        1101925 non-null  int64  \n",
      " 1   SALES_ORG                1101925 non-null  int64  \n",
      " 2   DISTRIBUTION_CHANNEL     1101925 non-null  object \n",
      " 3   DIVISION                 1101925 non-null  object \n",
      " 4   RELEASED_CREDIT_VALUE    1101925 non-null  object \n",
      " 5   PURCHASE_ORDER_TYPE      1083233 non-null  object \n",
      " 6   COMPANY_CODE             1101925 non-null  int64  \n",
      " 7   ORDER_CREATION_DATE      1101925 non-null  int64  \n",
      " 8   ORDER_CREATION_TIME      1101925 non-null  int64  \n",
      " 9   CREDIT_CONTROL_AREA      1101925 non-null  object \n",
      " 10  SOLD_TO_PARTY            1101925 non-null  int64  \n",
      " 11  ORDER_AMOUNT             1101925 non-null  object \n",
      " 12  REQUESTED_DELIVERY_DATE  1101925 non-null  int64  \n",
      " 13  ORDER_CURRENCY           1101925 non-null  object \n",
      " 14  CREDIT_STATUS            219478 non-null   float64\n",
      " 15  CUSTOMER_NUMBER          1101925 non-null  int64  \n",
      "dtypes: float64(1), int64(8), object(7)\n",
      "memory usage: 134.5+ MB\n",
      "None\n"
     ]
    }
   ],
   "source": [
    "print(data.info())"
   ]
  },
  {
   "cell_type": "markdown",
   "metadata": {},
   "source": [
    "SEE IF MISSING VALUES ARE PRESENT OR NOT"
   ]
  },
  {
   "cell_type": "code",
   "execution_count": 77,
   "metadata": {},
   "outputs": [
    {
     "name": "stdout",
     "output_type": "stream",
     "text": [
      "CUSTOMER_ORDER_ID               0\n",
      "SALES_ORG                       0\n",
      "DISTRIBUTION_CHANNEL            0\n",
      "DIVISION                        0\n",
      "RELEASED_CREDIT_VALUE           0\n",
      "PURCHASE_ORDER_TYPE         18692\n",
      "COMPANY_CODE                    0\n",
      "ORDER_CREATION_DATE             0\n",
      "ORDER_CREATION_TIME             0\n",
      "CREDIT_CONTROL_AREA             0\n",
      "SOLD_TO_PARTY                   0\n",
      "ORDER_AMOUNT                    0\n",
      "REQUESTED_DELIVERY_DATE         0\n",
      "ORDER_CURRENCY                  0\n",
      "CREDIT_STATUS              882447\n",
      "CUSTOMER_NUMBER                 0\n",
      "dtype: int64\n"
     ]
    }
   ],
   "source": [
    "print(data.isnull().sum())"
   ]
  },
  {
   "cell_type": "markdown",
   "metadata": {},
   "source": [
    "replacing null values ny Nan"
   ]
  },
  {
   "cell_type": "code",
   "execution_count": 78,
   "metadata": {},
   "outputs": [],
   "source": [
    "data.replace(to_replace=[None, ''], value=np.nan, inplace=True)"
   ]
  },
  {
   "cell_type": "markdown",
   "metadata": {},
   "source": [
    "Change the format of ORDER_CREATION_DATE to datetime[64] with format \"%Y%m%d"
   ]
  },
  {
   "cell_type": "code",
   "execution_count": 79,
   "metadata": {},
   "outputs": [
    {
     "name": "stdout",
     "output_type": "stream",
     "text": [
      "0         2022-01-01\n",
      "1         2022-01-01\n",
      "2         2022-01-01\n",
      "3         2022-01-01\n",
      "4         2022-01-01\n",
      "             ...    \n",
      "1101920   2022-06-01\n",
      "1101921   2022-06-01\n",
      "1101922   2022-06-01\n",
      "1101923   2022-06-01\n",
      "1101924   2022-06-01\n",
      "Name: ORDER_CREATION_DATE, Length: 1101925, dtype: datetime64[ns]\n"
     ]
    }
   ],
   "source": [
    "data['ORDER_CREATION_DATE'] = pd.to_datetime(data['ORDER_CREATION_DATE'], format='%Y%m%d')\n",
    "print(data['ORDER_CREATION_DATE'])"
   ]
  },
  {
   "cell_type": "markdown",
   "metadata": {},
   "source": [
    "Change the format of REQUESTED_DELIVERY_DATE to datetime[64] with format \"%Y%m%d\""
   ]
  },
  {
   "cell_type": "code",
   "execution_count": 80,
   "metadata": {},
   "outputs": [],
   "source": [
    "\n",
    "data['REQUESTED_DELIVERY_DATE'] = pd.to_datetime(data['REQUESTED_DELIVERY_DATE'], format='%Y%m%d')"
   ]
  },
  {
   "cell_type": "markdown",
   "metadata": {},
   "source": [
    "Count how many records have order date greater than delivery date"
   ]
  },
  {
   "cell_type": "code",
   "execution_count": 81,
   "metadata": {},
   "outputs": [
    {
     "name": "stdout",
     "output_type": "stream",
     "text": [
      "27142\n"
     ]
    }
   ],
   "source": [
    "print((data['ORDER_CREATION_DATE'] > data['REQUESTED_DELIVERY_DATE']).sum())"
   ]
  },
  {
   "cell_type": "markdown",
   "metadata": {},
   "source": [
    " Remove records where order date is greater than delivery date"
   ]
  },
  {
   "cell_type": "code",
   "execution_count": 82,
   "metadata": {},
   "outputs": [],
   "source": [
    "data = data[data['ORDER_CREATION_DATE'] <= data['REQUESTED_DELIVERY_DATE']]"
   ]
  },
  {
   "cell_type": "markdown",
   "metadata": {},
   "source": [
    "Check the number of records where the ORDER_AMOUNT field has \"-\""
   ]
  },
  {
   "cell_type": "code",
   "execution_count": 83,
   "metadata": {},
   "outputs": [
    {
     "name": "stdout",
     "output_type": "stream",
     "text": [
      "32\n"
     ]
    }
   ],
   "source": [
    "print((data['ORDER_AMOUNT'].str.contains('-').sum()))"
   ]
  },
  {
   "cell_type": "markdown",
   "metadata": {},
   "source": [
    "Replace \"-\" with \"\" from the \"ORDER_AMOUNT\" field"
   ]
  },
  {
   "cell_type": "code",
   "execution_count": 84,
   "metadata": {},
   "outputs": [],
   "source": [
    "data['ORDER_AMOUNT'] = data['ORDER_AMOUNT'].astype(str).str.replace('-', '')\n",
    "\n"
   ]
  },
  {
   "cell_type": "markdown",
   "metadata": {},
   "source": [
    "Check the number of records where the ORDER_AMOUNT field has \",\""
   ]
  },
  {
   "cell_type": "code",
   "execution_count": 85,
   "metadata": {},
   "outputs": [
    {
     "name": "stdout",
     "output_type": "stream",
     "text": [
      "1073406\n"
     ]
    }
   ],
   "source": [
    "print((data['ORDER_AMOUNT'].str.contains(',')).sum())"
   ]
  },
  {
   "cell_type": "markdown",
   "metadata": {},
   "source": [
    "Replace \",\" with \".\" from the \"ORDER_AMOUNT\" field"
   ]
  },
  {
   "cell_type": "code",
   "execution_count": 86,
   "metadata": {},
   "outputs": [
    {
     "name": "stdout",
     "output_type": "stream",
     "text": [
      "0            954.61\n",
      "1            787.36\n",
      "2          67493.46\n",
      "3           1405.54\n",
      "4              0.00\n",
      "             ...   \n",
      "1101920     4415.19\n",
      "1101921        0.00\n",
      "1101922        0.00\n",
      "1101923        0.00\n",
      "1101924     4415.19\n",
      "Name: ORDER_AMOUNT, Length: 1074783, dtype: float64\n"
     ]
    }
   ],
   "source": [
    "data['ORDER_AMOUNT'] = data['ORDER_AMOUNT'].astype(str).str.replace(',', '.')\n",
    "\n",
    "data['ORDER_AMOUNT'] = pd.to_numeric(data['ORDER_AMOUNT'], errors='coerce')\n",
    "# convert string to numeric\n",
    "print(data['ORDER_AMOUNT'])"
   ]
  },
  {
   "cell_type": "code",
   "execution_count": 87,
   "metadata": {},
   "outputs": [],
   "source": [
    "# data['ORDER_AMOUNT'] = data['ORDER_AMOUNT'].astype(str).str.replace(',', '')\n",
    "\n",
    "# data['ORDER_AMOUNT'] = pd.to_numeric(data['ORDER_AMOUNT'], errors='coerce')\n",
    "# print(data['ORDER_AMOUNT'])"
   ]
  },
  {
   "cell_type": "markdown",
   "metadata": {},
   "source": [
    "Count the number of records where order date and delivery date are same"
   ]
  },
  {
   "cell_type": "code",
   "execution_count": 88,
   "metadata": {},
   "outputs": [
    {
     "name": "stdout",
     "output_type": "stream",
     "text": [
      "100437\n"
     ]
    }
   ],
   "source": [
    "\n",
    "print((data['ORDER_CREATION_DATE'].dt.date == data['REQUESTED_DELIVERY_DATE'].dt.date).sum())"
   ]
  },
  {
   "cell_type": "markdown",
   "metadata": {},
   "source": [
    "count the number of records for each currency type using the \"ORDER_CURRENCY\" field"
   ]
  },
  {
   "cell_type": "code",
   "execution_count": 89,
   "metadata": {},
   "outputs": [
    {
     "name": "stdout",
     "output_type": "stream",
     "text": [
      "USD    622835\n",
      "EUR    253196\n",
      "AUD     64200\n",
      "CAD     55065\n",
      "GBP     22028\n",
      "MYR     13946\n",
      "PLN     11861\n",
      "AED      7852\n",
      "HKD      6198\n",
      "CHF      5259\n",
      "RON      4731\n",
      "SGD      3909\n",
      "CZK      2178\n",
      "HU1      1377\n",
      "NZD        79\n",
      "BHD        32\n",
      "SAR        14\n",
      "QAR        12\n",
      "KWD         7\n",
      "SEK         4\n",
      "Name: ORDER_CURRENCY, dtype: int64\n"
     ]
    }
   ],
   "source": [
    "print(data['ORDER_CURRENCY'].value_counts())"
   ]
  },
  {
   "cell_type": "markdown",
   "metadata": {},
   "source": [
    "Create a new column in the DataFrame called \"amount_in_usd\" and convert all non-USD currencies to USD"
   ]
  },
  {
   "cell_type": "code",
   "execution_count": 90,
   "metadata": {},
   "outputs": [],
   "source": [
    "usd_conversion_rates = {\n",
    "    'USD': 1.0,\n",
    "    'EUR': 1.08,\n",
    "    'AUD': 0.66,\n",
    "    'CAD': 0.74,\n",
    "    'GBP': 1.24,\n",
    "    'MYR': 0.22,\n",
    "    'PLN': 0.24,\n",
    "    'AED': 0.27,\n",
    "    'HKD': 0.13,\n",
    "    'CHF': 1.11,\n",
    "    'RON': 0.22,\n",
    "    'SGD': 0.74,\n",
    "    'CZK': 0.046,\n",
    "    'HU1': 0.0028,\n",
    "    'NZD': 0.61,\n",
    "    'BHD': 2.65,\n",
    "    'SAR': 0.27,\n",
    "    'QAR': 0.27,\n",
    "    'KWD': 3.25,\n",
    "    'SEK': 0.094\n",
    "}"
   ]
  },
  {
   "cell_type": "markdown",
   "metadata": {},
   "source": [
    "converting order amount to numeric and converting every amount in USD"
   ]
  },
  {
   "cell_type": "code",
   "execution_count": 91,
   "metadata": {},
   "outputs": [],
   "source": [
    "\n",
    "data['AMOUNT_IN_USD'] = data.apply(lambda row: row['ORDER_AMOUNT'] * usd_conversion_rates.get(row['ORDER_CURRENCY'], np.nan), axis=1)\n"
   ]
  },
  {
   "cell_type": "code",
   "execution_count": 92,
   "metadata": {},
   "outputs": [
    {
     "name": "stdout",
     "output_type": "stream",
     "text": [
      "0           1030.9788\n",
      "1            850.3488\n",
      "2          72892.9368\n",
      "3           1517.9832\n",
      "4              0.0000\n",
      "              ...    \n",
      "1101920     3267.2406\n",
      "1101921        0.0000\n",
      "1101922        0.0000\n",
      "1101923        0.0000\n",
      "1101924     3267.2406\n",
      "Name: AMOUNT_IN_USD, Length: 1074783, dtype: float64\n"
     ]
    }
   ],
   "source": [
    "print(data['AMOUNT_IN_USD'])"
   ]
  },
  {
   "cell_type": "markdown",
   "metadata": {},
   "source": [
    "Check for values of 0 in the \"amount_in_usd\" column"
   ]
  },
  {
   "cell_type": "code",
   "execution_count": 93,
   "metadata": {},
   "outputs": [
    {
     "name": "stdout",
     "output_type": "stream",
     "text": [
      "237821\n"
     ]
    }
   ],
   "source": [
    "print((data['AMOUNT_IN_USD'] == 0).sum())"
   ]
  },
  {
   "cell_type": "markdown",
   "metadata": {},
   "source": [
    "Create a new column in the DataFrame called \"unique_cust_id\" by adding CUSTOMER_NUMBER and COMPANY_CODE"
   ]
  },
  {
   "cell_type": "code",
   "execution_count": 94,
   "metadata": {},
   "outputs": [
    {
     "name": "stdout",
     "output_type": "stream",
     "text": [
      "0            123118073220\n",
      "1            123118073220\n",
      "2            121187583260\n",
      "3          12104997703290\n",
      "4          12103514003290\n",
      "                ...      \n",
      "1101920    12103318044260\n",
      "1101921    12103318044260\n",
      "1101922    12103318114260\n",
      "1101923    12103318114260\n",
      "1101924    12103318044260\n",
      "Name: UNIQUE_CUST_ID, Length: 1074783, dtype: object\n"
     ]
    }
   ],
   "source": [
    "data['UNIQUE_CUST_ID'] = data['CUSTOMER_NUMBER'].astype(str) + data['COMPANY_CODE'].astype(str)\n",
    "print(data['UNIQUE_CUST_ID'])\n"
   ]
  },
  {
   "cell_type": "code",
   "execution_count": 95,
   "metadata": {},
   "outputs": [
    {
     "data": {
      "text/html": [
       "<div>\n",
       "<style scoped>\n",
       "    .dataframe tbody tr th:only-of-type {\n",
       "        vertical-align: middle;\n",
       "    }\n",
       "\n",
       "    .dataframe tbody tr th {\n",
       "        vertical-align: top;\n",
       "    }\n",
       "\n",
       "    .dataframe thead th {\n",
       "        text-align: right;\n",
       "    }\n",
       "</style>\n",
       "<table border=\"1\" class=\"dataframe\">\n",
       "  <thead>\n",
       "    <tr style=\"text-align: right;\">\n",
       "      <th></th>\n",
       "      <th>CUSTOMER_ORDER_ID</th>\n",
       "      <th>SALES_ORG</th>\n",
       "      <th>DISTRIBUTION_CHANNEL</th>\n",
       "      <th>DIVISION</th>\n",
       "      <th>RELEASED_CREDIT_VALUE</th>\n",
       "      <th>PURCHASE_ORDER_TYPE</th>\n",
       "      <th>COMPANY_CODE</th>\n",
       "      <th>ORDER_CREATION_DATE</th>\n",
       "      <th>ORDER_CREATION_TIME</th>\n",
       "      <th>CREDIT_CONTROL_AREA</th>\n",
       "      <th>SOLD_TO_PARTY</th>\n",
       "      <th>ORDER_AMOUNT</th>\n",
       "      <th>REQUESTED_DELIVERY_DATE</th>\n",
       "      <th>ORDER_CURRENCY</th>\n",
       "      <th>CREDIT_STATUS</th>\n",
       "      <th>CUSTOMER_NUMBER</th>\n",
       "      <th>AMOUNT_IN_USD</th>\n",
       "      <th>UNIQUE_CUST_ID</th>\n",
       "    </tr>\n",
       "  </thead>\n",
       "  <tbody>\n",
       "    <tr>\n",
       "      <th>0</th>\n",
       "      <td>946851639</td>\n",
       "      <td>3537</td>\n",
       "      <td>United States of America</td>\n",
       "      <td>South-Region</td>\n",
       "      <td>0,00</td>\n",
       "      <td>1000</td>\n",
       "      <td>3220</td>\n",
       "      <td>2022-01-01</td>\n",
       "      <td>43012</td>\n",
       "      <td>SR02</td>\n",
       "      <td>756141537</td>\n",
       "      <td>954.61</td>\n",
       "      <td>2022-01-13</td>\n",
       "      <td>EUR</td>\n",
       "      <td>NaN</td>\n",
       "      <td>12311807</td>\n",
       "      <td>1030.9788</td>\n",
       "      <td>123118073220</td>\n",
       "    </tr>\n",
       "    <tr>\n",
       "      <th>1</th>\n",
       "      <td>963432061</td>\n",
       "      <td>3449</td>\n",
       "      <td>Martinique</td>\n",
       "      <td>South-Region</td>\n",
       "      <td>0,00</td>\n",
       "      <td>1000</td>\n",
       "      <td>3220</td>\n",
       "      <td>2022-01-01</td>\n",
       "      <td>43114</td>\n",
       "      <td>NR03</td>\n",
       "      <td>798847812</td>\n",
       "      <td>787.36</td>\n",
       "      <td>2022-01-11</td>\n",
       "      <td>EUR</td>\n",
       "      <td>NaN</td>\n",
       "      <td>12311807</td>\n",
       "      <td>850.3488</td>\n",
       "      <td>123118073220</td>\n",
       "    </tr>\n",
       "    <tr>\n",
       "      <th>2</th>\n",
       "      <td>971991639</td>\n",
       "      <td>3238</td>\n",
       "      <td>Moldova</td>\n",
       "      <td>South-Region</td>\n",
       "      <td>82342,02</td>\n",
       "      <td>I200</td>\n",
       "      <td>3260</td>\n",
       "      <td>2022-01-01</td>\n",
       "      <td>110019</td>\n",
       "      <td>NR01</td>\n",
       "      <td>960984659</td>\n",
       "      <td>67493.46</td>\n",
       "      <td>2022-01-12</td>\n",
       "      <td>EUR</td>\n",
       "      <td>93.0</td>\n",
       "      <td>12118758</td>\n",
       "      <td>72892.9368</td>\n",
       "      <td>121187583260</td>\n",
       "    </tr>\n",
       "    <tr>\n",
       "      <th>3</th>\n",
       "      <td>754349803</td>\n",
       "      <td>3911</td>\n",
       "      <td>United Arab Emirates</td>\n",
       "      <td>South-Region</td>\n",
       "      <td>1471,24</td>\n",
       "      <td>N000</td>\n",
       "      <td>3290</td>\n",
       "      <td>2022-01-01</td>\n",
       "      <td>153013</td>\n",
       "      <td>SR02</td>\n",
       "      <td>925857642</td>\n",
       "      <td>1405.54</td>\n",
       "      <td>2022-01-06</td>\n",
       "      <td>EUR</td>\n",
       "      <td>93.0</td>\n",
       "      <td>1210499770</td>\n",
       "      <td>1517.9832</td>\n",
       "      <td>12104997703290</td>\n",
       "    </tr>\n",
       "    <tr>\n",
       "      <th>4</th>\n",
       "      <td>930253442</td>\n",
       "      <td>2381</td>\n",
       "      <td>Greece</td>\n",
       "      <td>South-Region</td>\n",
       "      <td>0,00</td>\n",
       "      <td>N000</td>\n",
       "      <td>3290</td>\n",
       "      <td>2022-01-01</td>\n",
       "      <td>160020</td>\n",
       "      <td>SR01</td>\n",
       "      <td>947942786</td>\n",
       "      <td>0.00</td>\n",
       "      <td>2022-01-06</td>\n",
       "      <td>EUR</td>\n",
       "      <td>64.0</td>\n",
       "      <td>1210351400</td>\n",
       "      <td>0.0000</td>\n",
       "      <td>12103514003290</td>\n",
       "    </tr>\n",
       "    <tr>\n",
       "      <th>...</th>\n",
       "      <td>...</td>\n",
       "      <td>...</td>\n",
       "      <td>...</td>\n",
       "      <td>...</td>\n",
       "      <td>...</td>\n",
       "      <td>...</td>\n",
       "      <td>...</td>\n",
       "      <td>...</td>\n",
       "      <td>...</td>\n",
       "      <td>...</td>\n",
       "      <td>...</td>\n",
       "      <td>...</td>\n",
       "      <td>...</td>\n",
       "      <td>...</td>\n",
       "      <td>...</td>\n",
       "      <td>...</td>\n",
       "      <td>...</td>\n",
       "      <td>...</td>\n",
       "    </tr>\n",
       "    <tr>\n",
       "      <th>1101920</th>\n",
       "      <td>853605710</td>\n",
       "      <td>2498</td>\n",
       "      <td>Germany</td>\n",
       "      <td>South-Region</td>\n",
       "      <td>0,00</td>\n",
       "      <td>NaN</td>\n",
       "      <td>4260</td>\n",
       "      <td>2022-06-01</td>\n",
       "      <td>74357</td>\n",
       "      <td>NR02</td>\n",
       "      <td>946056501</td>\n",
       "      <td>4415.19</td>\n",
       "      <td>2022-06-01</td>\n",
       "      <td>SGD</td>\n",
       "      <td>NaN</td>\n",
       "      <td>1210331804</td>\n",
       "      <td>3267.2406</td>\n",
       "      <td>12103318044260</td>\n",
       "    </tr>\n",
       "    <tr>\n",
       "      <th>1101921</th>\n",
       "      <td>998890898</td>\n",
       "      <td>4509</td>\n",
       "      <td>Armenia</td>\n",
       "      <td>South-Region</td>\n",
       "      <td>0,00</td>\n",
       "      <td>NaN</td>\n",
       "      <td>4260</td>\n",
       "      <td>2022-06-01</td>\n",
       "      <td>84052</td>\n",
       "      <td>NR04</td>\n",
       "      <td>894775488</td>\n",
       "      <td>0.00</td>\n",
       "      <td>2022-06-01</td>\n",
       "      <td>SGD</td>\n",
       "      <td>NaN</td>\n",
       "      <td>1210331804</td>\n",
       "      <td>0.0000</td>\n",
       "      <td>12103318044260</td>\n",
       "    </tr>\n",
       "    <tr>\n",
       "      <th>1101922</th>\n",
       "      <td>983330221</td>\n",
       "      <td>3951</td>\n",
       "      <td>Nepal</td>\n",
       "      <td>South-Region</td>\n",
       "      <td>0,00</td>\n",
       "      <td>NaN</td>\n",
       "      <td>4260</td>\n",
       "      <td>2022-06-01</td>\n",
       "      <td>85322</td>\n",
       "      <td>NR01</td>\n",
       "      <td>909729781</td>\n",
       "      <td>0.00</td>\n",
       "      <td>2022-06-01</td>\n",
       "      <td>SGD</td>\n",
       "      <td>NaN</td>\n",
       "      <td>1210331811</td>\n",
       "      <td>0.0000</td>\n",
       "      <td>12103318114260</td>\n",
       "    </tr>\n",
       "    <tr>\n",
       "      <th>1101923</th>\n",
       "      <td>926668029</td>\n",
       "      <td>3235</td>\n",
       "      <td>Panama</td>\n",
       "      <td>South-Region</td>\n",
       "      <td>0,00</td>\n",
       "      <td>NaN</td>\n",
       "      <td>4260</td>\n",
       "      <td>2022-06-01</td>\n",
       "      <td>90538</td>\n",
       "      <td>SR04</td>\n",
       "      <td>940836817</td>\n",
       "      <td>0.00</td>\n",
       "      <td>2022-06-01</td>\n",
       "      <td>SGD</td>\n",
       "      <td>NaN</td>\n",
       "      <td>1210331811</td>\n",
       "      <td>0.0000</td>\n",
       "      <td>12103318114260</td>\n",
       "    </tr>\n",
       "    <tr>\n",
       "      <th>1101924</th>\n",
       "      <td>921701000</td>\n",
       "      <td>2968</td>\n",
       "      <td>Nicaragua</td>\n",
       "      <td>South-Region</td>\n",
       "      <td>0,00</td>\n",
       "      <td>NaN</td>\n",
       "      <td>4260</td>\n",
       "      <td>2022-06-01</td>\n",
       "      <td>113357</td>\n",
       "      <td>NR02</td>\n",
       "      <td>754385277</td>\n",
       "      <td>4415.19</td>\n",
       "      <td>2022-06-01</td>\n",
       "      <td>SGD</td>\n",
       "      <td>NaN</td>\n",
       "      <td>1210331804</td>\n",
       "      <td>3267.2406</td>\n",
       "      <td>12103318044260</td>\n",
       "    </tr>\n",
       "  </tbody>\n",
       "</table>\n",
       "<p>1074783 rows × 18 columns</p>\n",
       "</div>"
      ],
      "text/plain": [
       "         CUSTOMER_ORDER_ID  SALES_ORG      DISTRIBUTION_CHANNEL      DIVISION  \\\n",
       "0                946851639       3537  United States of America  South-Region   \n",
       "1                963432061       3449                Martinique  South-Region   \n",
       "2                971991639       3238                   Moldova  South-Region   \n",
       "3                754349803       3911      United Arab Emirates  South-Region   \n",
       "4                930253442       2381                    Greece  South-Region   \n",
       "...                    ...        ...                       ...           ...   \n",
       "1101920          853605710       2498                   Germany  South-Region   \n",
       "1101921          998890898       4509                   Armenia  South-Region   \n",
       "1101922          983330221       3951                     Nepal  South-Region   \n",
       "1101923          926668029       3235                    Panama  South-Region   \n",
       "1101924          921701000       2968                 Nicaragua  South-Region   \n",
       "\n",
       "        RELEASED_CREDIT_VALUE PURCHASE_ORDER_TYPE  COMPANY_CODE  \\\n",
       "0                        0,00                1000          3220   \n",
       "1                        0,00                1000          3220   \n",
       "2                    82342,02                I200          3260   \n",
       "3                     1471,24                N000          3290   \n",
       "4                        0,00                N000          3290   \n",
       "...                       ...                 ...           ...   \n",
       "1101920                  0,00                 NaN          4260   \n",
       "1101921                  0,00                 NaN          4260   \n",
       "1101922                  0,00                 NaN          4260   \n",
       "1101923                  0,00                 NaN          4260   \n",
       "1101924                  0,00                 NaN          4260   \n",
       "\n",
       "        ORDER_CREATION_DATE  ORDER_CREATION_TIME CREDIT_CONTROL_AREA  \\\n",
       "0                2022-01-01                43012                SR02   \n",
       "1                2022-01-01                43114                NR03   \n",
       "2                2022-01-01               110019                NR01   \n",
       "3                2022-01-01               153013                SR02   \n",
       "4                2022-01-01               160020                SR01   \n",
       "...                     ...                  ...                 ...   \n",
       "1101920          2022-06-01                74357                NR02   \n",
       "1101921          2022-06-01                84052                NR04   \n",
       "1101922          2022-06-01                85322                NR01   \n",
       "1101923          2022-06-01                90538                SR04   \n",
       "1101924          2022-06-01               113357                NR02   \n",
       "\n",
       "         SOLD_TO_PARTY  ORDER_AMOUNT REQUESTED_DELIVERY_DATE ORDER_CURRENCY  \\\n",
       "0            756141537        954.61              2022-01-13            EUR   \n",
       "1            798847812        787.36              2022-01-11            EUR   \n",
       "2            960984659      67493.46              2022-01-12            EUR   \n",
       "3            925857642       1405.54              2022-01-06            EUR   \n",
       "4            947942786          0.00              2022-01-06            EUR   \n",
       "...                ...           ...                     ...            ...   \n",
       "1101920      946056501       4415.19              2022-06-01            SGD   \n",
       "1101921      894775488          0.00              2022-06-01            SGD   \n",
       "1101922      909729781          0.00              2022-06-01            SGD   \n",
       "1101923      940836817          0.00              2022-06-01            SGD   \n",
       "1101924      754385277       4415.19              2022-06-01            SGD   \n",
       "\n",
       "         CREDIT_STATUS  CUSTOMER_NUMBER  AMOUNT_IN_USD  UNIQUE_CUST_ID  \n",
       "0                  NaN         12311807      1030.9788    123118073220  \n",
       "1                  NaN         12311807       850.3488    123118073220  \n",
       "2                 93.0         12118758     72892.9368    121187583260  \n",
       "3                 93.0       1210499770      1517.9832  12104997703290  \n",
       "4                 64.0       1210351400         0.0000  12103514003290  \n",
       "...                ...              ...            ...             ...  \n",
       "1101920            NaN       1210331804      3267.2406  12103318044260  \n",
       "1101921            NaN       1210331804         0.0000  12103318044260  \n",
       "1101922            NaN       1210331811         0.0000  12103318114260  \n",
       "1101923            NaN       1210331811         0.0000  12103318114260  \n",
       "1101924            NaN       1210331804      3267.2406  12103318044260  \n",
       "\n",
       "[1074783 rows x 18 columns]"
      ]
     },
     "execution_count": 95,
     "metadata": {},
     "output_type": "execute_result"
    }
   ],
   "source": [
    "\n",
    "data"
   ]
  }
 ],
 "metadata": {
  "kernelspec": {
   "display_name": "Python 3 (ipykernel)",
   "language": "python",
   "name": "python3"
  },
  "language_info": {
   "codemirror_mode": {
    "name": "ipython",
    "version": 3
   },
   "file_extension": ".py",
   "mimetype": "text/x-python",
   "name": "python",
   "nbconvert_exporter": "python",
   "pygments_lexer": "ipython3",
   "version": "3.10.9"
  }
 },
 "nbformat": 4,
 "nbformat_minor": 2
}
