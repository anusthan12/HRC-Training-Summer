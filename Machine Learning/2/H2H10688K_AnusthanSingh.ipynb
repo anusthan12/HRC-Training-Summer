{
 "cells": [
  {
   "cell_type": "markdown",
   "metadata": {},
   "source": [
    "IMPORTING NECESSARY LIBRARIES"
   ]
  },
  {
   "cell_type": "code",
   "execution_count": 2,
   "metadata": {},
   "outputs": [],
   "source": [
    "import pandas as pd\n",
    "import numpy as np"
   ]
  },
  {
   "cell_type": "markdown",
   "metadata": {},
   "source": [
    "IMPORITNG THE DATA FILE IN THE ENVIRONMENT\n"
   ]
  },
  {
   "cell_type": "code",
   "execution_count": 5,
   "metadata": {},
   "outputs": [
    {
     "data": {
      "text/html": [
       "<div>\n",
       "<style scoped>\n",
       "    .dataframe tbody tr th:only-of-type {\n",
       "        vertical-align: middle;\n",
       "    }\n",
       "\n",
       "    .dataframe tbody tr th {\n",
       "        vertical-align: top;\n",
       "    }\n",
       "\n",
       "    .dataframe thead th {\n",
       "        text-align: right;\n",
       "    }\n",
       "</style>\n",
       "<table border=\"1\" class=\"dataframe\">\n",
       "  <thead>\n",
       "    <tr style=\"text-align: right;\">\n",
       "      <th></th>\n",
       "      <th>CUSTOMER_ORDER_ID</th>\n",
       "      <th>SALES_ORG</th>\n",
       "      <th>COMPANY_CODE</th>\n",
       "      <th>ORDER_CREATION_DATE</th>\n",
       "      <th>ORDER_CREATION_TIME</th>\n",
       "      <th>SOLD_TO_PARTY</th>\n",
       "      <th>REQUESTED_DELIVERY_DATE</th>\n",
       "      <th>CREDIT_STATUS</th>\n",
       "      <th>CUSTOMER_NUMBER</th>\n",
       "    </tr>\n",
       "  </thead>\n",
       "  <tbody>\n",
       "    <tr>\n",
       "      <th>count</th>\n",
       "      <td>1.101925e+06</td>\n",
       "      <td>1.101925e+06</td>\n",
       "      <td>1.101925e+06</td>\n",
       "      <td>1.101925e+06</td>\n",
       "      <td>1.101925e+06</td>\n",
       "      <td>1.101925e+06</td>\n",
       "      <td>1.101925e+06</td>\n",
       "      <td>219478.000000</td>\n",
       "      <td>1.101925e+06</td>\n",
       "    </tr>\n",
       "    <tr>\n",
       "      <th>mean</th>\n",
       "      <td>8.763187e+08</td>\n",
       "      <td>3.304891e+03</td>\n",
       "      <td>3.431364e+03</td>\n",
       "      <td>2.022032e+07</td>\n",
       "      <td>1.340316e+05</td>\n",
       "      <td>8.763265e+08</td>\n",
       "      <td>2.022035e+07</td>\n",
       "      <td>74.464771</td>\n",
       "      <td>1.074092e+09</td>\n",
       "    </tr>\n",
       "    <tr>\n",
       "      <th>std</th>\n",
       "      <td>7.088594e+07</td>\n",
       "      <td>6.958920e+02</td>\n",
       "      <td>5.483805e+02</td>\n",
       "      <td>1.426756e+02</td>\n",
       "      <td>6.503618e+04</td>\n",
       "      <td>7.090306e+07</td>\n",
       "      <td>1.751912e+03</td>\n",
       "      <td>14.444210</td>\n",
       "      <td>4.042693e+08</td>\n",
       "    </tr>\n",
       "    <tr>\n",
       "      <th>min</th>\n",
       "      <td>7.534520e+08</td>\n",
       "      <td>2.100000e+03</td>\n",
       "      <td>5.900000e+01</td>\n",
       "      <td>2.022010e+07</td>\n",
       "      <td>0.000000e+00</td>\n",
       "      <td>7.534518e+08</td>\n",
       "      <td>2.019081e+07</td>\n",
       "      <td>52.000000</td>\n",
       "      <td>1.210001e+07</td>\n",
       "    </tr>\n",
       "    <tr>\n",
       "      <th>25%</th>\n",
       "      <td>8.149522e+08</td>\n",
       "      <td>2.702000e+03</td>\n",
       "      <td>3.260000e+03</td>\n",
       "      <td>2.022021e+07</td>\n",
       "      <td>8.170200e+04</td>\n",
       "      <td>8.148366e+08</td>\n",
       "      <td>2.022022e+07</td>\n",
       "      <td>64.000000</td>\n",
       "      <td>1.230006e+09</td>\n",
       "    </tr>\n",
       "    <tr>\n",
       "      <th>50%</th>\n",
       "      <td>8.763963e+08</td>\n",
       "      <td>3.305000e+03</td>\n",
       "      <td>3.660000e+03</td>\n",
       "      <td>2.022032e+07</td>\n",
       "      <td>1.509540e+05</td>\n",
       "      <td>8.763542e+08</td>\n",
       "      <td>2.022033e+07</td>\n",
       "      <td>64.000000</td>\n",
       "      <td>1.230014e+09</td>\n",
       "    </tr>\n",
       "    <tr>\n",
       "      <th>75%</th>\n",
       "      <td>9.376832e+08</td>\n",
       "      <td>3.908000e+03</td>\n",
       "      <td>3.670000e+03</td>\n",
       "      <td>2.022042e+07</td>\n",
       "      <td>1.853580e+05</td>\n",
       "      <td>9.377293e+08</td>\n",
       "      <td>2.022050e+07</td>\n",
       "      <td>93.000000</td>\n",
       "      <td>1.230014e+09</td>\n",
       "    </tr>\n",
       "    <tr>\n",
       "      <th>max</th>\n",
       "      <td>9.990063e+08</td>\n",
       "      <td>4.510000e+03</td>\n",
       "      <td>4.260000e+03</td>\n",
       "      <td>2.022060e+07</td>\n",
       "      <td>2.359590e+05</td>\n",
       "      <td>9.990075e+08</td>\n",
       "      <td>2.202022e+07</td>\n",
       "      <td>93.000000</td>\n",
       "      <td>1.230025e+09</td>\n",
       "    </tr>\n",
       "  </tbody>\n",
       "</table>\n",
       "</div>"
      ],
      "text/plain": [
       "       CUSTOMER_ORDER_ID     SALES_ORG  COMPANY_CODE  ORDER_CREATION_DATE  \\\n",
       "count       1.101925e+06  1.101925e+06  1.101925e+06         1.101925e+06   \n",
       "mean        8.763187e+08  3.304891e+03  3.431364e+03         2.022032e+07   \n",
       "std         7.088594e+07  6.958920e+02  5.483805e+02         1.426756e+02   \n",
       "min         7.534520e+08  2.100000e+03  5.900000e+01         2.022010e+07   \n",
       "25%         8.149522e+08  2.702000e+03  3.260000e+03         2.022021e+07   \n",
       "50%         8.763963e+08  3.305000e+03  3.660000e+03         2.022032e+07   \n",
       "75%         9.376832e+08  3.908000e+03  3.670000e+03         2.022042e+07   \n",
       "max         9.990063e+08  4.510000e+03  4.260000e+03         2.022060e+07   \n",
       "\n",
       "       ORDER_CREATION_TIME  SOLD_TO_PARTY  REQUESTED_DELIVERY_DATE  \\\n",
       "count         1.101925e+06   1.101925e+06             1.101925e+06   \n",
       "mean          1.340316e+05   8.763265e+08             2.022035e+07   \n",
       "std           6.503618e+04   7.090306e+07             1.751912e+03   \n",
       "min           0.000000e+00   7.534518e+08             2.019081e+07   \n",
       "25%           8.170200e+04   8.148366e+08             2.022022e+07   \n",
       "50%           1.509540e+05   8.763542e+08             2.022033e+07   \n",
       "75%           1.853580e+05   9.377293e+08             2.022050e+07   \n",
       "max           2.359590e+05   9.990075e+08             2.202022e+07   \n",
       "\n",
       "       CREDIT_STATUS  CUSTOMER_NUMBER  \n",
       "count  219478.000000     1.101925e+06  \n",
       "mean       74.464771     1.074092e+09  \n",
       "std        14.444210     4.042693e+08  \n",
       "min        52.000000     1.210001e+07  \n",
       "25%        64.000000     1.230006e+09  \n",
       "50%        64.000000     1.230014e+09  \n",
       "75%        93.000000     1.230014e+09  \n",
       "max        93.000000     1.230025e+09  "
      ]
     },
     "execution_count": 5,
     "metadata": {},
     "output_type": "execute_result"
    }
   ],
   "source": [
    "data = pd.read_csv(\"Final.csv\")\n",
    "data.describe()\n"
   ]
  },
  {
   "cell_type": "code",
   "execution_count": 75,
   "metadata": {},
   "outputs": [
    {
     "name": "stdout",
     "output_type": "stream",
     "text": [
      "(1101925, 16)\n"
     ]
    }
   ],
   "source": [
    "print(data.shape)"
   ]
  },
  {
   "cell_type": "code",
   "execution_count": 76,
   "metadata": {},
   "outputs": [
    {
     "name": "stdout",
     "output_type": "stream",
     "text": [
      "<class 'pandas.core.frame.DataFrame'>\n",
      "RangeIndex: 1101925 entries, 0 to 1101924\n",
      "Data columns (total 16 columns):\n",
      " #   Column                   Non-Null Count    Dtype  \n",
      "---  ------                   --------------    -----  \n",
      " 0   CUSTOMER_ORDER_ID        1101925 non-null  int64  \n",
      " 1   SALES_ORG                1101925 non-null  int64  \n",
      " 2   DISTRIBUTION_CHANNEL     1101925 non-null  object \n",
      " 3   DIVISION                 1101925 non-null  object \n",
      " 4   RELEASED_CREDIT_VALUE    1101925 non-null  object \n",
      " 5   PURCHASE_ORDER_TYPE      1083233 non-null  object \n",
      " 6   COMPANY_CODE             1101925 non-null  int64  \n",
      " 7   ORDER_CREATION_DATE      1101925 non-null  int64  \n",
      " 8   ORDER_CREATION_TIME      1101925 non-null  int64  \n",
      " 9   CREDIT_CONTROL_AREA      1101925 non-null  object \n",
      " 10  SOLD_TO_PARTY            1101925 non-null  int64  \n",
      " 11  ORDER_AMOUNT             1101925 non-null  object \n",
      " 12  REQUESTED_DELIVERY_DATE  1101925 non-null  int64  \n",
      " 13  ORDER_CURRENCY           1101925 non-null  object \n",
      " 14  CREDIT_STATUS            219478 non-null   float64\n",
      " 15  CUSTOMER_NUMBER          1101925 non-null  int64  \n",
      "dtypes: float64(1), int64(8), object(7)\n",
      "memory usage: 134.5+ MB\n",
      "None\n"
     ]
    }
   ],
   "source": [
    "print(data.info())"
   ]
  },
  {
   "cell_type": "markdown",
   "metadata": {},
   "source": [
    "SEE IF MISSING VALUES ARE PRESENT OR NOT"
   ]
  },
  {
   "cell_type": "code",
   "execution_count": 77,
   "metadata": {},
   "outputs": [
    {
     "name": "stdout",
     "output_type": "stream",
     "text": [
      "CUSTOMER_ORDER_ID               0\n",
      "SALES_ORG                       0\n",
      "DISTRIBUTION_CHANNEL            0\n",
      "DIVISION                        0\n",
      "RELEASED_CREDIT_VALUE           0\n",
      "PURCHASE_ORDER_TYPE         18692\n",
      "COMPANY_CODE                    0\n",
      "ORDER_CREATION_DATE             0\n",
      "ORDER_CREATION_TIME             0\n",
      "CREDIT_CONTROL_AREA             0\n",
      "SOLD_TO_PARTY                   0\n",
      "ORDER_AMOUNT                    0\n",
      "REQUESTED_DELIVERY_DATE         0\n",
      "ORDER_CURRENCY                  0\n",
      "CREDIT_STATUS              882447\n",
      "CUSTOMER_NUMBER                 0\n",
      "dtype: int64\n"
     ]
    }
   ],
   "source": [
    "print(data.isnull().sum())"
   ]
  },
  {
   "cell_type": "markdown",
   "metadata": {},
   "source": [
    "replacing null values ny Nan"
   ]
  },
  {
   "cell_type": "code",
   "execution_count": 78,
   "metadata": {},
   "outputs": [],
   "source": [
    "data.replace(to_replace=[None, ''], value=np.nan, inplace=True)"
   ]
  },
  {
   "cell_type": "markdown",
   "metadata": {},
   "source": [
    "Change the format of ORDER_CREATION_DATE to datetime[64] with format \"%Y%m%d"
   ]
  },
  {
   "cell_type": "code",
   "execution_count": 79,
   "metadata": {},
   "outputs": [
    {
     "name": "stdout",
     "output_type": "stream",
     "text": [
      "0         2022-01-01\n",
      "1         2022-01-01\n",
      "2         2022-01-01\n",
      "3         2022-01-01\n",
      "4         2022-01-01\n",
      "             ...    \n",
      "1101920   2022-06-01\n",
      "1101921   2022-06-01\n",
      "1101922   2022-06-01\n",
      "1101923   2022-06-01\n",
      "1101924   2022-06-01\n",
      "Name: ORDER_CREATION_DATE, Length: 1101925, dtype: datetime64[ns]\n"
     ]
    }
   ],
   "source": [
    "data['ORDER_CREATION_DATE'] = pd.to_datetime(data['ORDER_CREATION_DATE'], format='%Y%m%d')\n",
    "print(data['ORDER_CREATION_DATE'])"
   ]
  },
  {
   "cell_type": "markdown",
   "metadata": {},
   "source": [
    "Change the format of REQUESTED_DELIVERY_DATE to datetime[64] with format \"%Y%m%d\""
   ]
  },
  {
   "cell_type": "code",
   "execution_count": 80,
   "metadata": {},
   "outputs": [],
   "source": [
    "\n",
    "data['REQUESTED_DELIVERY_DATE'] = pd.to_datetime(data['REQUESTED_DELIVERY_DATE'], format='%Y%m%d')"
   ]
  },
  {
   "cell_type": "markdown",
   "metadata": {},
   "source": [
    "Count how many records have order date greater than delivery date"
   ]
  },
  {
   "cell_type": "code",
   "execution_count": 81,
   "metadata": {},
   "outputs": [
    {
     "name": "stdout",
     "output_type": "stream",
     "text": [
      "27142\n"
     ]
    }
   ],
   "source": [
    "print((data['ORDER_CREATION_DATE'] > data['REQUESTED_DELIVERY_DATE']).sum())"
   ]
  },
  {
   "cell_type": "markdown",
   "metadata": {},
   "source": [
    " Remove records where order date is greater than delivery date"
   ]
  },
  {
   "cell_type": "code",
   "execution_count": 82,
   "metadata": {},
   "outputs": [],
   "source": [
    "data = data[data['ORDER_CREATION_DATE'] <= data['REQUESTED_DELIVERY_DATE']]"
   ]
  },
  {
   "cell_type": "markdown",
   "metadata": {},
   "source": [
    "Check the number of records where the ORDER_AMOUNT field has \"-\""
   ]
  },
  {
   "cell_type": "code",
   "execution_count": 83,
   "metadata": {},
   "outputs": [
    {
     "name": "stdout",
     "output_type": "stream",
     "text": [
      "32\n"
     ]
    }
   ],
   "source": [
    "print((data['ORDER_AMOUNT'].str.contains('-').sum()))"
   ]
  },
  {
   "cell_type": "markdown",
   "metadata": {},
   "source": [
    "Replace \"-\" with \"\" from the \"ORDER_AMOUNT\" field"
   ]
  },
  {
   "cell_type": "code",
   "execution_count": 84,
   "metadata": {},
   "outputs": [],
   "source": [
    "data['ORDER_AMOUNT'] = data['ORDER_AMOUNT'].astype(str).str.replace('-', '')\n",
    "\n"
   ]
  },
  {
   "cell_type": "markdown",
   "metadata": {},
   "source": [
    "Check the number of records where the ORDER_AMOUNT field has \",\""
   ]
  },
  {
   "cell_type": "code",
   "execution_count": 85,
   "metadata": {},
   "outputs": [
    {
     "name": "stdout",
     "output_type": "stream",
     "text": [
      "1073406\n"
     ]
    }
   ],
   "source": [
    "print((data['ORDER_AMOUNT'].str.contains(',')).sum())"
   ]
  },
  {
   "cell_type": "markdown",
   "metadata": {},
   "source": [
    "Replace \",\" with \".\" from the \"ORDER_AMOUNT\" field"
   ]
  },
  {
   "cell_type": "code",
   "execution_count": 86,
   "metadata": {},
   "outputs": [
    {
     "name": "stdout",
     "output_type": "stream",
     "text": [
      "0            954.61\n",
      "1            787.36\n",
      "2          67493.46\n",
      "3           1405.54\n",
      "4              0.00\n",
      "             ...   \n",
      "1101920     4415.19\n",
      "1101921        0.00\n",
      "1101922        0.00\n",
      "1101923        0.00\n",
      "1101924     4415.19\n",
      "Name: ORDER_AMOUNT, Length: 1074783, dtype: float64\n"
     ]
    }
   ],
   "source": [
    "data['ORDER_AMOUNT'] = data['ORDER_AMOUNT'].astype(str).str.replace(',', '.')\n",
    "\n",
    "data['ORDER_AMOUNT'] = pd.to_numeric(data['ORDER_AMOUNT'], errors='coerce')\n",
    "# convert string to numeric\n",
    "print(data['ORDER_AMOUNT'])"
   ]
  },
  {
   "cell_type": "code",
   "execution_count": 87,
   "metadata": {},
   "outputs": [],
   "source": [
    "# data['ORDER_AMOUNT'] = data['ORDER_AMOUNT'].astype(str).str.replace(',', '')\n",
    "\n",
    "# data['ORDER_AMOUNT'] = pd.to_numeric(data['ORDER_AMOUNT'], errors='coerce')\n",
    "# print(data['ORDER_AMOUNT'])"
   ]
  },
  {
   "cell_type": "markdown",
   "metadata": {},
   "source": [
    "Count the number of records where order date and delivery date are same"
   ]
  },
  {
   "cell_type": "code",
   "execution_count": 88,
   "metadata": {},
   "outputs": [
    {
     "name": "stdout",
     "output_type": "stream",
     "text": [
      "100437\n"
     ]
    }
   ],
   "source": [
    "\n",
    "print((data['ORDER_CREATION_DATE'].dt.date == data['REQUESTED_DELIVERY_DATE'].dt.date).sum())"
   ]
  },
  {
   "cell_type": "markdown",
   "metadata": {},
   "source": [
    "count the number of records for each currency type using the \"ORDER_CURRENCY\" field"
   ]
  },
  {
   "cell_type": "code",
   "execution_count": 89,
   "metadata": {},
   "outputs": [
    {
     "name": "stdout",
     "output_type": "stream",
     "text": [
      "USD    622835\n",
      "EUR    253196\n",
      "AUD     64200\n",
      "CAD     55065\n",
      "GBP     22028\n",
      "MYR     13946\n",
      "PLN     11861\n",
      "AED      7852\n",
      "HKD      6198\n",
      "CHF      5259\n",
      "RON      4731\n",
      "SGD      3909\n",
      "CZK      2178\n",
      "HU1      1377\n",
      "NZD        79\n",
      "BHD        32\n",
      "SAR        14\n",
      "QAR        12\n",
      "KWD         7\n",
      "SEK         4\n",
      "Name: ORDER_CURRENCY, dtype: int64\n"
     ]
    }
   ],
   "source": [
    "print(data['ORDER_CURRENCY'].value_counts())"
   ]
  },
  {
   "cell_type": "markdown",
   "metadata": {},
   "source": [
    "Create a new column in the DataFrame called \"amount_in_usd\" and convert all non-USD currencies to USD"
   ]
  },
  {
   "cell_type": "code",
   "execution_count": 90,
   "metadata": {},
   "outputs": [],
   "source": [
    "usd_conversion_rates = {\n",
    "    'USD': 1.0,\n",
    "    'EUR': 1.08,\n",
    "    'AUD': 0.66,\n",
    "    'CAD': 0.74,\n",
    "    'GBP': 1.24,\n",
    "    'MYR': 0.22,\n",
    "    'PLN': 0.24,\n",
    "    'AED': 0.27,\n",
    "    'HKD': 0.13,\n",
    "    'CHF': 1.11,\n",
    "    'RON': 0.22,\n",
    "    'SGD': 0.74,\n",
    "    'CZK': 0.046,\n",
    "    'HU1': 0.0028,\n",
    "    'NZD': 0.61,\n",
    "    'BHD': 2.65,\n",
    "    'SAR': 0.27,\n",
    "    'QAR': 0.27,\n",
    "    'KWD': 3.25,\n",
    "    'SEK': 0.094\n",
    "}"
   ]
  },
  {
   "cell_type": "markdown",
   "metadata": {},
   "source": [
    "converting order amount to numeric and converting every amount in USD"
   ]
  },
  {
   "cell_type": "code",
   "execution_count": 91,
   "metadata": {},
   "outputs": [],
   "source": [
    "\n",
    "data['AMOUNT_IN_USD'] = data.apply(lambda row: row['ORDER_AMOUNT'] * usd_conversion_rates.get(row['ORDER_CURRENCY'], np.nan), axis=1)\n"
   ]
  },
  {
   "cell_type": "code",
   "execution_count": 92,
   "metadata": {},
   "outputs": [
    {
     "name": "stdout",
     "output_type": "stream",
     "text": [
      "0           1030.9788\n",
      "1            850.3488\n",
      "2          72892.9368\n",
      "3           1517.9832\n",
      "4              0.0000\n",
      "              ...    \n",
      "1101920     3267.2406\n",
      "1101921        0.0000\n",
      "1101922        0.0000\n",
      "1101923        0.0000\n",
      "1101924     3267.2406\n",
      "Name: AMOUNT_IN_USD, Length: 1074783, dtype: float64\n"
     ]
    }
   ],
   "source": [
    "print(data['AMOUNT_IN_USD'])"
   ]
  },
  {
   "cell_type": "markdown",
   "metadata": {},
   "source": [
    "Check for values of 0 in the \"amount_in_usd\" column"
   ]
  },
  {
   "cell_type": "code",
   "execution_count": 93,
   "metadata": {},
   "outputs": [
    {
     "name": "stdout",
     "output_type": "stream",
     "text": [
      "237821\n"
     ]
    }
   ],
   "source": [
    "print((data['AMOUNT_IN_USD'] == 0).sum())"
   ]
  },
  {
   "cell_type": "markdown",
   "metadata": {},
   "source": [
    "Create a new column in the DataFrame called \"unique_cust_id\" by adding CUSTOMER_NUMBER and COMPANY_CODE"
   ]
  },
  {
   "cell_type": "code",
   "execution_count": 94,
   "metadata": {
    "scrolled": true
   },
   "outputs": [
    {
     "name": "stdout",
     "output_type": "stream",
     "text": [
      "0            123118073220\n",
      "1            123118073220\n",
      "2            121187583260\n",
      "3          12104997703290\n",
      "4          12103514003290\n",
      "                ...      \n",
      "1101920    12103318044260\n",
      "1101921    12103318044260\n",
      "1101922    12103318114260\n",
      "1101923    12103318114260\n",
      "1101924    12103318044260\n",
      "Name: UNIQUE_CUST_ID, Length: 1074783, dtype: object\n"
     ]
    }
   ],
   "source": [
    "data['UNIQUE_CUST_ID'] = data['CUSTOMER_NUMBER'].astype(str) + data['COMPANY_CODE'].astype(str)\n",
    "print(data['UNIQUE_CUST_ID'])\n"
   ]
  },
  {
   "cell_type": "code",
   "execution_count": 2,
   "metadata": {},
   "outputs": [
    {
     "ename": "NameError",
     "evalue": "name 'data' is not defined",
     "output_type": "error",
     "traceback": [
      "\u001b[1;31m---------------------------------------------------------------------------\u001b[0m",
      "\u001b[1;31mNameError\u001b[0m                                 Traceback (most recent call last)",
      "Cell \u001b[1;32mIn[2], line 1\u001b[0m\n\u001b[1;32m----> 1\u001b[0m \u001b[43mdata\u001b[49m\n",
      "\u001b[1;31mNameError\u001b[0m: name 'data' is not defined"
     ]
    }
   ],
   "source": [
    "data"
   ]
  },
  {
   "cell_type": "code",
   "execution_count": null,
   "metadata": {},
   "outputs": [],
   "source": []
  }
 ],
 "metadata": {
  "kernelspec": {
   "display_name": "Python 3 (ipykernel)",
   "language": "python",
   "name": "python3"
  },
  "language_info": {
   "codemirror_mode": {
    "name": "ipython",
    "version": 3
   },
   "file_extension": ".py",
   "mimetype": "text/x-python",
   "name": "python",
   "nbconvert_exporter": "python",
   "pygments_lexer": "ipython3",
   "version": "3.10.9"
  }
 },
 "nbformat": 4,
 "nbformat_minor": 2
}
